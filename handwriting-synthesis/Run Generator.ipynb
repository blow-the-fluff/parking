{
 "cells": [
  {
   "cell_type": "markdown",
   "metadata": {},
   "source": [
    "# Run Form Field HW Generation"
   ]
  },
  {
   "cell_type": "code",
   "execution_count": 1,
   "metadata": {},
   "outputs": [],
   "source": [
    "# Run this\n",
    "import os\n",
    "import logging\n",
    "import timeit\n",
    "\n",
    "import numpy as np\n",
    "import svgwrite\n",
    "\n",
    "import drawing\n",
    "import lyrics\n",
    "from rnn import rnn\n",
    "\n",
    "import random\n",
    "\n",
    "import pandas as pd\n",
    "\n",
    "from faker import Faker\n",
    "\n",
    "from cairosvg import svg2png\n",
    "import numpy as np\n",
    "from PIL import Image\n",
    "import pathlib as path\n",
    "\n",
    "from form_field import *\n",
    "from form_presets import *\n",
    "from hw_image_generator import *\n",
    "from customer_data_generators import *\n",
    "\n",
    "\n",
    "# Modify Config File\n",
    "from hw_generator_config import *\n"
   ]
  },
  {
   "cell_type": "markdown",
   "metadata": {},
   "source": [
    "## Generate Customer Data"
   ]
  },
  {
   "cell_type": "code",
   "execution_count": null,
   "metadata": {},
   "outputs": [],
   "source": [
    "tempdir = \"temp_annotation\"\n",
    "if not os.path.exists(tempdir):\n",
    "    os.mkdir(tempdir)\n",
    "    \n",
    "form_filler= FormFiller()\n",
    "form_filler.generate_data(10)\n",
    "form_filler.field_iterator(input_field_dict=FIELD_DICT,input_root=tempdir,input_df = form_filler.info_df)\n"
   ]
  },
  {
   "cell_type": "markdown",
   "metadata": {},
   "source": [
    "## Generate Images with random position offset"
   ]
  },
  {
   "cell_type": "code",
   "execution_count": null,
   "metadata": {},
   "outputs": [],
   "source": [
    "tempdir = \"temp_annotation\"\n",
    "if not os.path.exists(tempdir):\n",
    "    os.mkdir(tempdir)\n",
    "    \n",
    "form_filler= FormFiller()\n",
    "form_filler.generate_data(10)\n",
    "form_filler.field_iterator(input_field_dict=FIELD_DICT,input_root=tempdir,input_df = form_filler.info_df,\n",
    "                               x_bias = int((random.random()-0.5) * 20),y_bias = int((random.random()-0.5) * 10))\n"
   ]
  },
  {
   "cell_type": "markdown",
   "metadata": {},
   "source": [
    "## Generate 3-fields only\n",
    "10 handwriting styles"
   ]
  },
  {
   "cell_type": "code",
   "execution_count": null,
   "metadata": {},
   "outputs": [
    {
     "name": "stdout",
     "output_type": "stream",
     "text": [
      "INFO:tensorflow:Restoring parameters from checkpoints/model-17900\n"
     ]
    },
    {
     "name": "stderr",
     "output_type": "stream",
     "text": [
      "Restoring parameters from checkpoints/model-17900\n",
      "Restoring parameters from checkpoints/model-17900\n"
     ]
    }
   ],
   "source": [
    "tempdir = \"temp_3fields\"\n",
    "if not os.path.exists(tempdir):\n",
    "    os.mkdir(tempdir)\n",
    "    \n",
    "form_filler= FormFiller()\n",
    "form_filler.generate_data(1000,in_positions=3)\n",
    "form_filler.field_iterator(input_field_dict=FIELD_DICT_3FIELDS,\n",
    "                           input_root=tempdir,input_df = form_filler.info_df,\n",
    "                           x_bias = int((random.random()-0.5) * 20),\n",
    "                           y_bias = int((random.random()-0.5) * 10))\n"
   ]
  },
  {
   "cell_type": "code",
   "execution_count": null,
   "metadata": {},
   "outputs": [],
   "source": [
    "tempdir = \"temp_3fields_test\"\n",
    "if not os.path.exists(tempdir):\n",
    "    os.mkdir(tempdir)\n",
    "    \n",
    "form_filler= FormFiller()\n",
    "form_filler.generate_data(200,in_positions=3)\n",
    "form_filler.field_iterator(input_field_dict=FIELD_DICT_3FIELDS,\n",
    "                           input_root=tempdir,input_df = form_filler.info_df,\n",
    "                           x_bias = int((random.random()-0.5) * 20),\n",
    "                           y_bias = int((random.random()-0.5) * 10))\n"
   ]
  },
  {
   "cell_type": "markdown",
   "metadata": {},
   "source": [
    "## Generate 7-fields only\n",
    "10 handwriting styles"
   ]
  },
  {
   "cell_type": "code",
   "execution_count": null,
   "metadata": {},
   "outputs": [],
   "source": [
    "tempdir = \"../data/temp_7fields\"\n",
    "if not os.path.exists(tempdir):\n",
    "    os.mkdir(tempdir)\n",
    "    \n",
    "form_filler= FormFiller()\n",
    "form_filler.generate_data(2000,in_positions=7)\n",
    "form_filler.field_iterator(input_field_dict=FIELD_DICT_7FIELDS,\n",
    "                           input_root=tempdir,input_df = form_filler.info_df,\n",
    "                           x_bias = int((random.random()-0.5) * 20),\n",
    "                           y_bias = int((random.random()-0.5) * 10))\n"
   ]
  },
  {
   "cell_type": "markdown",
   "metadata": {},
   "source": [
    "## Generate SSN Fields"
   ]
  },
  {
   "cell_type": "code",
   "execution_count": 2,
   "metadata": {},
   "outputs": [
    {
     "name": "stdout",
     "output_type": "stream",
     "text": [
      "INFO:tensorflow:Restoring parameters from checkpoints/model-17900\n"
     ]
    },
    {
     "name": "stderr",
     "output_type": "stream",
     "text": [
      "Restoring parameters from checkpoints/model-17900\n"
     ]
    },
    {
     "name": "stdout",
     "output_type": "stream",
     "text": [
      "empty image  ../data/temp_ssn/0_ssn8_1522_933.png\n",
      "empty image  ../data/temp_ssn/0_ssn4_1320_933.png\n",
      "empty image  ../data/temp_ssn/0_ssn6_1442_933.png\n",
      "empty image  ../data/temp_ssn/0_ssn5_1364_933.png\n",
      "empty image  ../data/temp_ssn/0_ssn1_1164_933.png\n",
      "empty image  ../data/temp_ssn/0_ssn3_1242_933.png\n",
      "empty image  ../data/temp_ssn/0_ssn2_1203_933.png\n",
      "empty image  ../data/temp_ssn/0_ssn7_1482_933.png\n",
      "empty image  ../data/temp_ssn/0_ssn9_1562_933.png\n",
      "empty image  ../data/temp_ssn/1_ssn8_1522_933.png\n",
      "empty image  ../data/temp_ssn/1_ssn4_1320_933.png\n",
      "empty image  ../data/temp_ssn/1_ssn6_1442_933.png\n",
      "empty image  ../data/temp_ssn/1_ssn5_1364_933.png\n",
      "empty image  ../data/temp_ssn/1_ssn1_1164_933.png\n",
      "empty image  ../data/temp_ssn/1_ssn3_1242_933.png\n",
      "empty image  ../data/temp_ssn/1_ssn2_1203_933.png\n",
      "empty image  ../data/temp_ssn/1_ssn7_1482_933.png\n",
      "empty image  ../data/temp_ssn/1_ssn9_1562_933.png\n",
      "empty image  ../data/temp_ssn/2_ssn8_1522_933.png\n",
      "empty image  ../data/temp_ssn/2_ssn4_1320_933.png\n",
      "empty image  ../data/temp_ssn/2_ssn6_1442_933.png\n",
      "empty image  ../data/temp_ssn/2_ssn5_1364_933.png\n",
      "empty image  ../data/temp_ssn/2_ssn1_1164_933.png\n",
      "empty image  ../data/temp_ssn/2_ssn3_1242_933.png\n",
      "empty image  ../data/temp_ssn/2_ssn2_1203_933.png\n",
      "empty image  ../data/temp_ssn/2_ssn7_1482_933.png\n",
      "empty image  ../data/temp_ssn/2_ssn9_1562_933.png\n",
      "empty image  ../data/temp_ssn/3_ssn8_1522_933.png\n",
      "empty image  ../data/temp_ssn/3_ssn4_1320_933.png\n",
      "empty image  ../data/temp_ssn/3_ssn6_1442_933.png\n",
      "empty image  ../data/temp_ssn/3_ssn5_1364_933.png\n",
      "empty image  ../data/temp_ssn/3_ssn1_1164_933.png\n",
      "empty image  ../data/temp_ssn/3_ssn3_1242_933.png\n",
      "empty image  ../data/temp_ssn/3_ssn2_1203_933.png\n",
      "empty image  ../data/temp_ssn/3_ssn7_1482_933.png\n",
      "empty image  ../data/temp_ssn/3_ssn9_1562_933.png\n",
      "empty image  ../data/temp_ssn/4_ssn8_1522_933.png\n",
      "empty image  ../data/temp_ssn/4_ssn4_1320_933.png\n",
      "empty image  ../data/temp_ssn/4_ssn6_1442_933.png\n",
      "empty image  ../data/temp_ssn/4_ssn5_1364_933.png\n",
      "empty image  ../data/temp_ssn/4_ssn1_1164_933.png\n",
      "empty image  ../data/temp_ssn/4_ssn3_1242_933.png\n",
      "empty image  ../data/temp_ssn/4_ssn2_1203_933.png\n",
      "empty image  ../data/temp_ssn/4_ssn7_1482_933.png\n",
      "empty image  ../data/temp_ssn/4_ssn9_1562_933.png\n",
      "empty image  ../data/temp_ssn/5_ssn8_1522_933.png\n",
      "empty image  ../data/temp_ssn/5_ssn4_1320_933.png\n",
      "empty image  ../data/temp_ssn/5_ssn6_1442_933.png\n",
      "empty image  ../data/temp_ssn/5_ssn5_1364_933.png\n",
      "empty image  ../data/temp_ssn/5_ssn1_1164_933.png\n",
      "empty image  ../data/temp_ssn/5_ssn3_1242_933.png\n",
      "empty image  ../data/temp_ssn/5_ssn2_1203_933.png\n",
      "empty image  ../data/temp_ssn/5_ssn7_1482_933.png\n",
      "empty image  ../data/temp_ssn/5_ssn9_1562_933.png\n",
      "empty image  ../data/temp_ssn/6_ssn8_1522_933.png\n",
      "empty image  ../data/temp_ssn/6_ssn4_1320_933.png\n",
      "empty image  ../data/temp_ssn/6_ssn6_1442_933.png\n",
      "empty image  ../data/temp_ssn/6_ssn5_1364_933.png\n",
      "empty image  ../data/temp_ssn/6_ssn1_1164_933.png\n",
      "empty image  ../data/temp_ssn/6_ssn3_1242_933.png\n",
      "empty image  ../data/temp_ssn/6_ssn2_1203_933.png\n",
      "empty image  ../data/temp_ssn/6_ssn7_1482_933.png\n",
      "empty image  ../data/temp_ssn/6_ssn9_1562_933.png\n",
      "empty image  ../data/temp_ssn/7_ssn8_1522_933.png\n",
      "empty image  ../data/temp_ssn/7_ssn4_1320_933.png\n",
      "empty image  ../data/temp_ssn/7_ssn6_1442_933.png\n",
      "empty image  ../data/temp_ssn/7_ssn5_1364_933.png\n",
      "empty image  ../data/temp_ssn/7_ssn1_1164_933.png\n",
      "empty image  ../data/temp_ssn/7_ssn3_1242_933.png\n",
      "empty image  ../data/temp_ssn/7_ssn2_1203_933.png\n",
      "empty image  ../data/temp_ssn/7_ssn7_1482_933.png\n",
      "empty image  ../data/temp_ssn/7_ssn9_1562_933.png\n",
      "empty image  ../data/temp_ssn/8_ssn8_1522_933.png\n",
      "empty image  ../data/temp_ssn/8_ssn4_1320_933.png\n",
      "empty image  ../data/temp_ssn/8_ssn6_1442_933.png\n",
      "empty image  ../data/temp_ssn/8_ssn5_1364_933.png\n",
      "empty image  ../data/temp_ssn/8_ssn1_1164_933.png\n",
      "empty image  ../data/temp_ssn/8_ssn3_1242_933.png\n",
      "empty image  ../data/temp_ssn/8_ssn2_1203_933.png\n",
      "empty image  ../data/temp_ssn/8_ssn7_1482_933.png\n",
      "empty image  ../data/temp_ssn/8_ssn9_1562_933.png\n",
      "empty image  ../data/temp_ssn/9_ssn8_1522_933.png\n",
      "empty image  ../data/temp_ssn/9_ssn4_1320_933.png\n",
      "empty image  ../data/temp_ssn/9_ssn6_1442_933.png\n",
      "empty image  ../data/temp_ssn/9_ssn5_1364_933.png\n",
      "empty image  ../data/temp_ssn/9_ssn1_1164_933.png\n",
      "empty image  ../data/temp_ssn/9_ssn3_1242_933.png\n",
      "empty image  ../data/temp_ssn/9_ssn2_1203_933.png\n",
      "empty image  ../data/temp_ssn/9_ssn7_1482_933.png\n",
      "empty image  ../data/temp_ssn/9_ssn9_1562_933.png\n",
      "empty image  ../data/temp_ssn/10_ssn8_1522_933.png\n",
      "empty image  ../data/temp_ssn/10_ssn4_1320_933.png\n",
      "empty image  ../data/temp_ssn/10_ssn6_1442_933.png\n",
      "empty image  ../data/temp_ssn/10_ssn5_1364_933.png\n",
      "empty image  ../data/temp_ssn/10_ssn1_1164_933.png\n",
      "empty image  ../data/temp_ssn/10_ssn3_1242_933.png\n",
      "empty image  ../data/temp_ssn/10_ssn2_1203_933.png\n",
      "empty image  ../data/temp_ssn/10_ssn7_1482_933.png\n",
      "empty image  ../data/temp_ssn/10_ssn9_1562_933.png\n",
      "empty image  ../data/temp_ssn/11_ssn8_1522_933.png\n",
      "empty image  ../data/temp_ssn/11_ssn4_1320_933.png\n",
      "empty image  ../data/temp_ssn/11_ssn6_1442_933.png\n",
      "empty image  ../data/temp_ssn/11_ssn5_1364_933.png\n",
      "empty image  ../data/temp_ssn/11_ssn1_1164_933.png\n",
      "empty image  ../data/temp_ssn/11_ssn3_1242_933.png\n",
      "empty image  ../data/temp_ssn/11_ssn2_1203_933.png\n",
      "empty image  ../data/temp_ssn/11_ssn7_1482_933.png\n",
      "empty image  ../data/temp_ssn/11_ssn9_1562_933.png\n",
      "empty image  ../data/temp_ssn/12_ssn8_1522_933.png\n",
      "empty image  ../data/temp_ssn/12_ssn4_1320_933.png\n",
      "empty image  ../data/temp_ssn/12_ssn6_1442_933.png\n",
      "empty image  ../data/temp_ssn/12_ssn5_1364_933.png\n",
      "empty image  ../data/temp_ssn/12_ssn1_1164_933.png\n",
      "empty image  ../data/temp_ssn/12_ssn3_1242_933.png\n",
      "empty image  ../data/temp_ssn/12_ssn2_1203_933.png\n",
      "empty image  ../data/temp_ssn/12_ssn7_1482_933.png\n",
      "empty image  ../data/temp_ssn/12_ssn9_1562_933.png\n",
      "empty image  ../data/temp_ssn/13_ssn8_1522_933.png\n",
      "empty image  ../data/temp_ssn/13_ssn4_1320_933.png\n",
      "empty image  ../data/temp_ssn/13_ssn6_1442_933.png\n",
      "empty image  ../data/temp_ssn/13_ssn5_1364_933.png\n",
      "empty image  ../data/temp_ssn/13_ssn1_1164_933.png\n",
      "empty image  ../data/temp_ssn/13_ssn3_1242_933.png\n",
      "empty image  ../data/temp_ssn/13_ssn2_1203_933.png\n",
      "empty image  ../data/temp_ssn/13_ssn7_1482_933.png\n",
      "empty image  ../data/temp_ssn/13_ssn9_1562_933.png\n",
      "empty image  ../data/temp_ssn/14_ssn8_1522_933.png\n",
      "empty image  ../data/temp_ssn/14_ssn4_1320_933.png\n",
      "empty image  ../data/temp_ssn/14_ssn6_1442_933.png\n",
      "empty image  ../data/temp_ssn/14_ssn5_1364_933.png\n",
      "empty image  ../data/temp_ssn/14_ssn1_1164_933.png\n",
      "empty image  ../data/temp_ssn/14_ssn3_1242_933.png\n",
      "empty image  ../data/temp_ssn/14_ssn2_1203_933.png\n",
      "empty image  ../data/temp_ssn/14_ssn7_1482_933.png\n",
      "empty image  ../data/temp_ssn/14_ssn9_1562_933.png\n",
      "empty image  ../data/temp_ssn/15_ssn8_1522_933.png\n",
      "empty image  ../data/temp_ssn/15_ssn4_1320_933.png\n",
      "empty image  ../data/temp_ssn/15_ssn6_1442_933.png\n",
      "empty image  ../data/temp_ssn/15_ssn5_1364_933.png\n",
      "empty image  ../data/temp_ssn/15_ssn1_1164_933.png\n",
      "empty image  ../data/temp_ssn/15_ssn3_1242_933.png\n",
      "empty image  ../data/temp_ssn/15_ssn2_1203_933.png\n",
      "empty image  ../data/temp_ssn/15_ssn7_1482_933.png\n",
      "empty image  ../data/temp_ssn/15_ssn9_1562_933.png\n",
      "empty image  ../data/temp_ssn/16_ssn8_1522_933.png\n",
      "empty image  ../data/temp_ssn/16_ssn4_1320_933.png\n",
      "empty image  ../data/temp_ssn/16_ssn6_1442_933.png\n",
      "empty image  ../data/temp_ssn/16_ssn5_1364_933.png\n",
      "empty image  ../data/temp_ssn/16_ssn1_1164_933.png\n",
      "empty image  ../data/temp_ssn/16_ssn3_1242_933.png\n",
      "empty image  ../data/temp_ssn/16_ssn2_1203_933.png\n",
      "empty image  ../data/temp_ssn/16_ssn7_1482_933.png\n",
      "empty image  ../data/temp_ssn/16_ssn9_1562_933.png\n",
      "empty image  ../data/temp_ssn/17_ssn8_1522_933.png\n",
      "empty image  ../data/temp_ssn/17_ssn4_1320_933.png\n",
      "empty image  ../data/temp_ssn/17_ssn6_1442_933.png\n",
      "empty image  ../data/temp_ssn/17_ssn5_1364_933.png\n",
      "empty image  ../data/temp_ssn/17_ssn1_1164_933.png\n",
      "empty image  ../data/temp_ssn/17_ssn3_1242_933.png\n",
      "empty image  ../data/temp_ssn/17_ssn2_1203_933.png\n",
      "empty image  ../data/temp_ssn/17_ssn7_1482_933.png\n",
      "empty image  ../data/temp_ssn/17_ssn9_1562_933.png\n",
      "empty image  ../data/temp_ssn/18_ssn8_1522_933.png\n",
      "empty image  ../data/temp_ssn/18_ssn4_1320_933.png\n",
      "empty image  ../data/temp_ssn/18_ssn6_1442_933.png\n",
      "empty image  ../data/temp_ssn/18_ssn5_1364_933.png\n",
      "empty image  ../data/temp_ssn/18_ssn1_1164_933.png\n",
      "empty image  ../data/temp_ssn/18_ssn3_1242_933.png\n",
      "empty image  ../data/temp_ssn/18_ssn2_1203_933.png\n",
      "empty image  ../data/temp_ssn/18_ssn7_1482_933.png\n",
      "empty image  ../data/temp_ssn/18_ssn9_1562_933.png\n",
      "empty image  ../data/temp_ssn/19_ssn8_1522_933.png\n",
      "empty image  ../data/temp_ssn/19_ssn4_1320_933.png\n",
      "empty image  ../data/temp_ssn/19_ssn6_1442_933.png\n",
      "empty image  ../data/temp_ssn/19_ssn5_1364_933.png\n",
      "empty image  ../data/temp_ssn/19_ssn1_1164_933.png\n",
      "empty image  ../data/temp_ssn/19_ssn3_1242_933.png\n",
      "empty image  ../data/temp_ssn/19_ssn2_1203_933.png\n",
      "empty image  ../data/temp_ssn/19_ssn7_1482_933.png\n",
      "empty image  ../data/temp_ssn/19_ssn9_1562_933.png\n"
     ]
    }
   ],
   "source": [
    "tempdir = \"../data/temp_ssn\"\n",
    "if not os.path.exists(tempdir):\n",
    "    os.mkdir(tempdir)\n",
    "    \n",
    "form_filler= FormFiller()\n",
    "form_filler.generate_data(20,in_positions=9)\n",
    "form_filler.data_to_csv('tempssn.csv')\n",
    "form_filler.set_handwriting()\n",
    "form_filler.field_iterator(input_field_dict=FIELD_DICT_SSN,\n",
    "                           input_root=tempdir,input_df = form_filler.info_df,\n",
    "                           x_bias = int((random.random()-0.5) * 20),\n",
    "                           y_bias = int((random.random()-0.5) * 10))\n"
   ]
  },
  {
   "cell_type": "code",
   "execution_count": null,
   "metadata": {},
   "outputs": [],
   "source": []
  },
  {
   "cell_type": "markdown",
   "metadata": {},
   "source": [
    "## Save Customer Info CSV"
   ]
  },
  {
   "cell_type": "code",
   "execution_count": 4,
   "metadata": {},
   "outputs": [],
   "source": [
    "form_filler.data_to_csv(\"metadata.csv\")"
   ]
  },
  {
   "cell_type": "code",
   "execution_count": 5,
   "metadata": {},
   "outputs": [
    {
     "name": "stdout",
     "output_type": "stream",
     "text": [
      "uid,Name,BusinessName,Tax,Instructions,Exemptions,ExemptionCode,Address,City,Requester,Account,SocialSeciurityNumber,EmpIdentificationNumber\n",
      "0,Mr. Mohamed Evans,Chambers-Atkins,x,instructions ,exemptions  ,ex code ,Studio 73 Deborah views,Studio 76C King ford,Dr. Jake Singh Heatherchester,- ,984-97-9056,ETJV08477069251619\n",
      "1,Chloe Nelson,Morgan LLC,x,instructions ,exemptions  ,ex code ,807 Margaret throughway,529 Brenda ville,Kenneth Jones-Gray Clarkfurt,- ,952-74-9574,TWYB65922039531057\n"
     ]
    }
   ],
   "source": [
    "!head metadata.csv"
   ]
  },
  {
   "cell_type": "markdown",
   "metadata": {},
   "source": [
    "## Generate Form Annotation to CSV "
   ]
  },
  {
   "cell_type": "code",
   "execution_count": 6,
   "metadata": {},
   "outputs": [],
   "source": [
    "form_filler.generate_data(5,in_positions=True)"
   ]
  },
  {
   "cell_type": "code",
   "execution_count": 7,
   "metadata": {},
   "outputs": [],
   "source": [
    "form_filler.data_to_csv(\"metadata_withloc.csv\")"
   ]
  },
  {
   "cell_type": "code",
   "execution_count": 8,
   "metadata": {},
   "outputs": [
    {
     "name": "stdout",
     "output_type": "stream",
     "text": [
      "uid,Name,Name_loc,BusinessName,Tax,Instructions,Exemptions,ExemptionCode,Address,City,Requester,Account,SocialSeciurityNumber,EmpIdentificationNumber\n",
      "0,Julie Connor,\"(190, 255)\",\"Young, Ali and Williams\",x,instructions ,exemptions  ,ex code ,Flat 23a Jemma ranch,Studio 96 Barbara glens,Ms. Amelia Marsh South Bradleyside,- ,999-76-9604,GCAC91991907885988\n",
      "1,Teresa Fitzgerald,\"(190, 255)\",Smith PLC,x,instructions ,exemptions  ,ex code ,Studio 72b Glen brook,Studio 40 Joel vista,Chloe Bennett Lake Danny,- ,953-82-3576,GQIL48137712362849\n",
      "2,Natasha Jones,\"(190, 255)\",Baker-Welch,x,instructions ,exemptions  ,ex code ,Flat 7 Whittaker drives,818 Smith glen,Jayne Gregory West Louisetown,- ,936-83-2479,TKNV57518129259177\n",
      "3,Miss Kimberley Carter,\"(190, 255)\",Howell-Ahmed,x,instructions ,exemptions  ,ex code ,5 Mitchell drive,199 Olivia glens,Roger Leonard Anthonyville,- ,968-92-7898,GXRA94145495810863\n",
      "4,Lynda Brown,\"(190, 255)\",Taylor Group,x,instructions ,exemptions  ,ex code ,Studio 71 Harding isle,8 Denise mill,Gillian Smith-Weston Jordanport,- ,963-90-2870,GZOR84191092246173\n"
     ]
    }
   ],
   "source": [
    "!head metadata_withloc.csv"
   ]
  },
  {
   "cell_type": "code",
   "execution_count": null,
   "metadata": {},
   "outputs": [],
   "source": []
  }
 ],
 "metadata": {
  "kernelspec": {
   "display_name": "Python 3",
   "language": "python",
   "name": "python3"
  },
  "language_info": {
   "codemirror_mode": {
    "name": "ipython",
    "version": 3
   },
   "file_extension": ".py",
   "mimetype": "text/x-python",
   "name": "python",
   "nbconvert_exporter": "python",
   "pygments_lexer": "ipython3",
   "version": "3.5.3"
  }
 },
 "nbformat": 4,
 "nbformat_minor": 4
}
