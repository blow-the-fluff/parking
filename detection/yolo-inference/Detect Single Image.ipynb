{
 "cells": [
  {
   "cell_type": "code",
   "execution_count": 1,
   "metadata": {},
   "outputs": [],
   "source": [
    "import cv2\n",
    "import os\n",
    "from pydarknet import Detector, Image\n",
    "\n"
   ]
  },
  {
   "cell_type": "code",
   "execution_count": 2,
   "metadata": {},
   "outputs": [
    {
     "name": "stdout",
     "output_type": "stream",
     "text": [
      "[(b'dog', 0.9993107318878174, (224.25103759765625, 378.34991455078125, 178.82769775390625, 328.341552734375)), (b'bicycle', 0.9936935901641846, (344.41790771484375, 285.9111633300781, 490.34051513671875, 323.4147644042969)), (b'truck', 0.9163610935211182, (580.8343505859375, 125.05128479003906, 207.87188720703125, 87.08552551269531))]\n"
     ]
    }
   ],
   "source": [
    "    # net = Detector(bytes(\"cfg/densenet201.cfg\", encoding=\"utf-8\"), bytes(\"densenet201.weights\", encoding=\"utf-8\"), 0, bytes(\"cfg/imagenet1k.data\",encoding=\"utf-8\"))\n",
    "\n",
    "net = Detector(bytes(\"cfg/yolov3.cfg\", encoding=\"utf-8\"), bytes(\"weights/yolov3.weights\", encoding=\"utf-8\"), 0, bytes(\"cfg/coco.data\",encoding=\"utf-8\"))\n",
    "\n",
    "img = cv2.imread(os.path.join(\"/home/jupyter/forms-ocr/detection/yolo/darknet/\",\"data/dog.jpg\"))\n",
    "\n",
    "img2 = Image(img)\n",
    "\n",
    "# r = net.classify(img2)\n",
    "results = net.detect(img2)\n",
    "print(results)\n",
    "\n",
    "# for cat, score, bounds in results:\n",
    "#     x, y, w, h = bounds\n",
    "#     cv2.rectangle(img, (int(x - w / 2), int(y - h / 2)), (int(x + w / 2), int(y + h / 2)), (255, 0, 0), thickness=2)\n",
    "#     cv2.putText(img,str(cat.decode(\"utf-8\")),(int(x),int(y)),cv2.FONT_HERSHEY_COMPLEX,1,(255,255,0))\n",
    "\n",
    "# cv2.imshow(\"output\", img)\n",
    "# # img2 = pydarknet.load_image(img)\n",
    "\n",
    "# cv2.waitKey(0)"
   ]
  },
  {
   "cell_type": "code",
   "execution_count": 5,
   "metadata": {},
   "outputs": [],
   "source": [
    "def predict_fields(cfg_path=\"cfg/yolov3.cfg\",weight_path=\"weights/yolov3.weights\",field_names=\"cfg/coco.data\", img_name=\"dog.jpg\"):\n",
    "    net = Detector(bytes(cfg_path, encoding=\"utf-8\"), bytes(weight_path, encoding=\"utf-8\"), 0, bytes(field_names,encoding=\"utf-8\"))\n",
    "\n",
    "    img = cv2.imread(img_name)\n",
    "\n",
    "    img2 = Image(img)\n",
    "\n",
    "    results = net.detect(img2)\n",
    "    return results\n"
   ]
  },
  {
   "cell_type": "code",
   "execution_count": 6,
   "metadata": {},
   "outputs": [
    {
     "data": {
      "text/plain": [
       "[(b'dog',\n",
       "  0.9993107318878174,\n",
       "  (224.25103759765625,\n",
       "   378.34991455078125,\n",
       "   178.82769775390625,\n",
       "   328.341552734375)),\n",
       " (b'bicycle',\n",
       "  0.9936935901641846,\n",
       "  (344.41790771484375,\n",
       "   285.9111633300781,\n",
       "   490.34051513671875,\n",
       "   323.4147644042969)),\n",
       " (b'truck',\n",
       "  0.9163610935211182,\n",
       "  (580.8343505859375,\n",
       "   125.05128479003906,\n",
       "   207.87188720703125,\n",
       "   87.08552551269531))]"
      ]
     },
     "execution_count": 6,
     "metadata": {},
     "output_type": "execute_result"
    }
   ],
   "source": [
    "predict_fields()"
   ]
  },
  {
   "cell_type": "code",
   "execution_count": null,
   "metadata": {},
   "outputs": [],
   "source": []
  }
 ],
 "metadata": {
  "kernelspec": {
   "display_name": "Python 3",
   "language": "python",
   "name": "python3"
  },
  "language_info": {
   "codemirror_mode": {
    "name": "ipython",
    "version": 3
   },
   "file_extension": ".py",
   "mimetype": "text/x-python",
   "name": "python",
   "nbconvert_exporter": "python",
   "pygments_lexer": "ipython3",
   "version": "3.5.3"
  }
 },
 "nbformat": 4,
 "nbformat_minor": 4
}
