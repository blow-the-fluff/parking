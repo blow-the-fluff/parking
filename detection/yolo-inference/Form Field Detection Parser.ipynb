{
 "cells": [
  {
   "cell_type": "code",
   "execution_count": 1,
   "metadata": {},
   "outputs": [],
   "source": [
    "import json, os"
   ]
  },
  {
   "cell_type": "markdown",
   "metadata": {},
   "source": [
    "Parse JSon"
   ]
  },
  {
   "cell_type": "code",
   "execution_count": 65,
   "metadata": {},
   "outputs": [],
   "source": [
    "def get_filename(json_obj):\n",
    "    return json_obj['filename']\n",
    "\n",
    "def get_index(json_obj):\n",
    "    temp_filename = get_filename(json_obj).split('/')\n",
    "    return temp_filename[-1].split('.')[0]\n",
    "\n",
    "def get_field_name(field_obj):\n",
    "    return field_obj['name']\n",
    "\n",
    "def get_center_x(field_obj):\n",
    "    return field_obj['relative_coordinates']['center_x']\n",
    "def get_center_y(field_obj):\n",
    "    return field_obj['relative_coordinates']['center_y']\n",
    "def get_height(field_obj):\n",
    "    return field_obj['relative_coordinates']['height']\n",
    "def get_width(field_obj):\n",
    "    return field_obj['relative_coordinates']['width']\n",
    "from PIL import Image\n",
    "\n",
    "def get_size(json_obj):\n",
    "    fname = get_filename(json_obj)\n",
    "    im = Image.open(fname)\n",
    "    width, height = im.size\n",
    "    return width,height"
   ]
  },
  {
   "cell_type": "markdown",
   "metadata": {},
   "source": [
    "Load JSon file from YOLO Detection"
   ]
  },
  {
   "cell_type": "code",
   "execution_count": null,
   "metadata": {},
   "outputs": [],
   "source": [
    "with open('../yolo/result_23f_70iou.json') as f:\n",
    "    data = json.load(f)"
   ]
  },
  {
   "cell_type": "code",
   "execution_count": 99,
   "metadata": {},
   "outputs": [],
   "source": [
    "# Set output folder of detections\n",
    "temp_out_dir = './out_detect_23f/'\n",
    "os.mkdir(temp_out_dir)"
   ]
  },
  {
   "cell_type": "code",
   "execution_count": 105,
   "metadata": {},
   "outputs": [],
   "source": [
    "# Parse entire file and convert to image\n",
    "DEBUG = False\n",
    "for distro in data:\n",
    "    if DEBUG: print(get_filename(distro))\n",
    "    im = Image.open(get_filename(distro))    \n",
    "    width_px, height_px = get_size(distro)\n",
    "    index = get_index(distro)\n",
    "    obj = distro['objects']\n",
    "    for field in obj:\n",
    "        fieldname = get_field_name(field)\n",
    "        center_x_px = get_center_x(field)*width_px\n",
    "        center_y_px = get_center_y(field)*height_px\n",
    "        width = get_width(field) * width_px* 1.03\n",
    "        height = get_height(field)* height_px * 1.03\n",
    "        top_left_x = int(center_x_px-width/2)\n",
    "        top_left_y = int(center_y_px-height/2)\n",
    "        btm_right_x = int(center_x_px+width/2)\n",
    "        btm_right_y = int(center_y_px+height/2)\n",
    "        \n",
    "        \n",
    "        out_filename = '%s_%s.png'%(index,fieldname)\n",
    "        if DEBUG: print(out_filename)\n",
    "        \n",
    "        im1 = im.crop((top_left_x, top_left_y, btm_right_x, btm_right_y)) \n",
    "        im1.save(temp_out_dir+out_filename, 'png')\n",
    "        \n",
    "        if DEBUG: break\n",
    "    if DEBUG: break"
   ]
  },
  {
   "cell_type": "code",
   "execution_count": null,
   "metadata": {},
   "outputs": [],
   "source": []
  }
 ],
 "metadata": {
  "kernelspec": {
   "display_name": "Python 3",
   "language": "python",
   "name": "python3"
  },
  "language_info": {
   "codemirror_mode": {
    "name": "ipython",
    "version": 3
   },
   "file_extension": ".py",
   "mimetype": "text/x-python",
   "name": "python",
   "nbconvert_exporter": "python",
   "pygments_lexer": "ipython3",
   "version": "3.5.3"
  }
 },
 "nbformat": 4,
 "nbformat_minor": 4
}
