{
 "cells": [
  {
   "cell_type": "code",
   "execution_count": 1,
   "metadata": {},
   "outputs": [
    {
     "name": "stdout",
     "output_type": "stream",
     "text": [
      "   layer   filters  size/strd(dil)      input                output\n",
      "   0 conv     16       3 x 3/ 1    832 x 832 x   3 ->  832 x 832 x  16 0.598 BF\n",
      "   1 max                2x 2/ 2    832 x 832 x  16 ->  416 x 416 x  16 0.011 BF\n",
      "   2 conv     32       3 x 3/ 1    416 x 416 x  16 ->  416 x 416 x  32 1.595 BF\n",
      "   3 max                2x 2/ 2    416 x 416 x  32 ->  208 x 208 x  32 0.006 BF\n",
      "   4 conv     64       3 x 3/ 1    208 x 208 x  32 ->  208 x 208 x  64 1.595 BF\n",
      "   5 max                2x 2/ 2    208 x 208 x  64 ->  104 x 104 x  64 0.003 BF\n",
      "   6 conv    128       3 x 3/ 1    104 x 104 x  64 ->  104 x 104 x 128 1.595 BF\n",
      "   7 max                2x 2/ 2    104 x 104 x 128 ->   52 x  52 x 128 0.001 BF\n",
      "   8 conv    256       3 x 3/ 1     52 x  52 x 128 ->   52 x  52 x 256 1.595 BF\n",
      "   9 max                2x 2/ 2     52 x  52 x 256 ->   26 x  26 x 256 0.001 BF\n",
      "  10 conv    512       3 x 3/ 1     26 x  26 x 256 ->   26 x  26 x 512 1.595 BF\n",
      "  11 max                2x 2/ 1     26 x  26 x 512 ->   26 x  26 x 512 0.001 BF\n",
      "  12 conv   1024       3 x 3/ 1     26 x  26 x 512 ->   26 x  26 x1024 6.380 BF\n",
      "  13 conv    256       1 x 1/ 1     26 x  26 x1024 ->   26 x  26 x 256 0.354 BF\n",
      "  14 conv    512       3 x 3/ 1     26 x  26 x 256 ->   26 x  26 x 512 1.595 BF\n",
      "  15 conv     84       1 x 1/ 1     26 x  26 x 512 ->   26 x  26 x  84 0.058 BF\n",
      "  16 yolo\n",
      "[yolo] params: iou loss: mse, iou_norm: 0.75, cls_norm: 1.00, scale_x_y: 1.00\n",
      "  17 route  13\n",
      "  18 conv    128       1 x 1/ 1     26 x  26 x 256 ->   26 x  26 x 128 0.044 BF\n",
      "  19 upsample                 2x    26 x  26 x 128 ->   52 x  52 x 128\n",
      "  20 route  19 8\n",
      "  21 conv    256       3 x 3/ 1     52 x  52 x 384 ->   52 x  52 x 256 4.785 BF\n",
      "  22 conv     84       1 x 1/ 1     52 x  52 x 256 ->   52 x  52 x  84 0.116 BF\n",
      "  23 yolo\n",
      "[yolo] params: iou loss: mse, iou_norm: 0.75, cls_norm: 1.00, scale_x_y: 1.00\n",
      "Total BFLOPS 21.928 \n",
      " Allocate additional workspace_size = 52.43 MB \n",
      "Loading weights from ../backup/yolov3-tiny-23f-b2-832_last.weights...\n",
      " seen 64 \n",
      "Done! Loaded 24 layers from weights-file \n",
      "../t8.jpg: Predicted in 7.842000 milli-seconds.\n",
      "Address: 69%\n",
      "City: 55%\n",
      "Name: 68%\n",
      "BusinessName: 96%\n",
      "Tax6: 44%\n",
      "Signature: 86%\n",
      "Requester: 41%\n",
      "Date: 81%\n",
      "ssn2: 91%\n",
      "ssn3: 24%\n",
      "Bounding Box: Left=2021, Top=1350, Right=2077, Bottom=1400\n",
      "Bounding Box: Left=1728, Top=957, Right=2263, Bottom=1035\n",
      "Bounding Box: Left=300, Top=664, Right=347, Bottom=699\n",
      "Bounding Box: Left=256, Top=1051, Right=779, Bottom=1129\n",
      "Bounding Box: Left=288, Top=313, Right=782, Bottom=383\n",
      "Bounding Box: Left=247, Top=952, Right=791, Bottom=1029\n",
      "Bounding Box: Left=1945, Top=2289, Right=2453, Bottom=2351\n",
      "Bounding Box: Left=535, Top=2309, Right=779, Bottom=2384\n",
      "Bounding Box: Left=1947, Top=1342, Right=2007, Bottom=1388\n",
      "Bounding Box: Left=290, Top=412, Right=797, Bottom=477\n",
      "Not compiled with OpenCV, saving to predictions.png instead\n"
     ]
    }
   ],
   "source": [
    "# How to detect\n",
    "\n",
    "!./darknet detect ../yolov3-tiny-23f-b2-832.cfg ../backup/yolov3-tiny-23f-b2-832_last.weights ../t8.jpg\n",
    "\n",
    "\n"
   ]
  },
  {
   "cell_type": "code",
   "execution_count": null,
   "metadata": {},
   "outputs": [],
   "source": []
  },
  {
   "cell_type": "markdown",
   "metadata": {},
   "source": [
    "How to Train"
   ]
  },
  {
   "cell_type": "code",
   "execution_count": null,
   "metadata": {},
   "outputs": [],
   "source": [
    "!darknet/darknet detector train obj-23f-b2.data yolov3-tiny-23f-b2-832.cfg ./backup/yolov3-tiny-23f-832_10000.weights &\n"
   ]
  },
  {
   "cell_type": "markdown",
   "metadata": {},
   "source": [
    "How to Batch Run"
   ]
  },
  {
   "cell_type": "code",
   "execution_count": null,
   "metadata": {},
   "outputs": [],
   "source": [
    "!darknet/darknet detector test obj-23f-b2.data  yolov3-tiny-23f-b2-832.cfg  backup/yolov3-tiny-23f-b2-832_last.weights -iou_thresh 0.70 -ext_output -dont_show -out result_23f_70iou.json <  test_23f_info.txt \n"
   ]
  }
 ],
 "metadata": {
  "kernelspec": {
   "display_name": "Python 3",
   "language": "python",
   "name": "python3"
  },
  "language_info": {
   "codemirror_mode": {
    "name": "ipython",
    "version": 3
   },
   "file_extension": ".py",
   "mimetype": "text/x-python",
   "name": "python",
   "nbconvert_exporter": "python",
   "pygments_lexer": "ipython3",
   "version": "3.5.3"
  }
 },
 "nbformat": 4,
 "nbformat_minor": 4
}
